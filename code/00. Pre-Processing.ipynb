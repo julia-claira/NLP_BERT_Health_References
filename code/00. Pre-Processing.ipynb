{
  "nbformat": 4,
  "nbformat_minor": 0,
  "metadata": {
    "colab": {
      "provenance": []
    },
    "kernelspec": {
      "name": "python3",
      "display_name": "Python 3"
    },
    "language_info": {
      "name": "python"
    }
  },
  "cells": [
    {
      "cell_type": "code",
      "execution_count": 2,
      "metadata": {
        "id": "eivS2O8gM6qO"
      },
      "outputs": [],
      "source": [
        "import requests\n",
        "import os\n",
        "import json\n",
        "import pandas as pd\n",
        "import seaborn as sns\n",
        "import matplotlib.pyplot as plt"
      ]
    },
    {
      "cell_type": "markdown",
      "source": [
        "The following code joins two datasets of tweets from 2017 and 2019, though many of the same tweets can be found in both. Since these datasets only contain the tweet ids, we had to use Twitter's API to pull the attached tweets.\n",
        "\n",
        "The final number of tweets in our resulting dataset is 9,733. This is smaller than the 2019 dataset because some were no longer accessable. Also, since you now have to pay for the API, pulling more than 10,000 tweets would have greatly increased our budget."
      ],
      "metadata": {
        "id": "kUGw8jBBxqRX"
      }
    },
    {
      "cell_type": "code",
      "source": [
        "#mount drive\n",
        "from google.colab import drive\n",
        "drive.mount('/content/drive')"
      ],
      "metadata": {
        "colab": {
          "base_uri": "https://localhost:8080/"
        },
        "id": "IsUITArd_qb-",
        "outputId": "668d3666-eebe-43f2-bd10-a87bc40bd8a0"
      },
      "execution_count": 3,
      "outputs": [
        {
          "output_type": "stream",
          "name": "stdout",
          "text": [
            "Mounted at /content/drive\n"
          ]
        }
      ]
    },
    {
      "cell_type": "markdown",
      "source": [
        "# Pull Tweets using Twitter's API\n",
        "### (this has already been done so skip this section to load the resulting data)"
      ],
      "metadata": {
        "id": "UBDQtX4Bs_1g"
      }
    },
    {
      "cell_type": "code",
      "source": [
        "# Requires Token for Twitter API to run this section\n",
        "token=\"\""
      ],
      "metadata": {
        "id": "afqJmkTmsurt"
      },
      "execution_count": 1,
      "outputs": []
    },
    {
      "cell_type": "code",
      "source": [
        "#import original data set\n",
        "url=\"/content/drive/MyDrive/PHM2017.txt\"\n",
        "df=pd.read_csv(url,sep='\\t')\n",
        "print(f'length: {len(df)}')\n",
        "df.head()"
      ],
      "metadata": {
        "colab": {
          "base_uri": "https://localhost:8080/",
          "height": 224
        },
        "id": "MwZLBPIgtx1n",
        "outputId": "d75f6b32-07ae-46d4-f298-519ca2e3bd4f"
      },
      "execution_count": 6,
      "outputs": [
        {
          "output_type": "stream",
          "name": "stdout",
          "text": [
            "length: 7191\n"
          ]
        },
        {
          "output_type": "execute_result",
          "data": {
            "text/plain": [
              "   811711269212483584  alzheimer  2\n",
              "0  811746810733723649  alzheimer  1\n",
              "1  902649153792098304  alzheimer  1\n",
              "2  811695298359783424  alzheimer  0\n",
              "3  811696543501864961  alzheimer  1\n",
              "4  813212976257896449  alzheimer  1"
            ],
            "text/html": [
              "\n",
              "  <div id=\"df-0d74296f-d950-4f30-94dc-79cf249e3848\" class=\"colab-df-container\">\n",
              "    <div>\n",
              "<style scoped>\n",
              "    .dataframe tbody tr th:only-of-type {\n",
              "        vertical-align: middle;\n",
              "    }\n",
              "\n",
              "    .dataframe tbody tr th {\n",
              "        vertical-align: top;\n",
              "    }\n",
              "\n",
              "    .dataframe thead th {\n",
              "        text-align: right;\n",
              "    }\n",
              "</style>\n",
              "<table border=\"1\" class=\"dataframe\">\n",
              "  <thead>\n",
              "    <tr style=\"text-align: right;\">\n",
              "      <th></th>\n",
              "      <th>811711269212483584</th>\n",
              "      <th>alzheimer</th>\n",
              "      <th>2</th>\n",
              "    </tr>\n",
              "  </thead>\n",
              "  <tbody>\n",
              "    <tr>\n",
              "      <th>0</th>\n",
              "      <td>811746810733723649</td>\n",
              "      <td>alzheimer</td>\n",
              "      <td>1</td>\n",
              "    </tr>\n",
              "    <tr>\n",
              "      <th>1</th>\n",
              "      <td>902649153792098304</td>\n",
              "      <td>alzheimer</td>\n",
              "      <td>1</td>\n",
              "    </tr>\n",
              "    <tr>\n",
              "      <th>2</th>\n",
              "      <td>811695298359783424</td>\n",
              "      <td>alzheimer</td>\n",
              "      <td>0</td>\n",
              "    </tr>\n",
              "    <tr>\n",
              "      <th>3</th>\n",
              "      <td>811696543501864961</td>\n",
              "      <td>alzheimer</td>\n",
              "      <td>1</td>\n",
              "    </tr>\n",
              "    <tr>\n",
              "      <th>4</th>\n",
              "      <td>813212976257896449</td>\n",
              "      <td>alzheimer</td>\n",
              "      <td>1</td>\n",
              "    </tr>\n",
              "  </tbody>\n",
              "</table>\n",
              "</div>\n",
              "    <div class=\"colab-df-buttons\">\n",
              "\n",
              "  <div class=\"colab-df-container\">\n",
              "    <button class=\"colab-df-convert\" onclick=\"convertToInteractive('df-0d74296f-d950-4f30-94dc-79cf249e3848')\"\n",
              "            title=\"Convert this dataframe to an interactive table.\"\n",
              "            style=\"display:none;\">\n",
              "\n",
              "  <svg xmlns=\"http://www.w3.org/2000/svg\" height=\"24px\" viewBox=\"0 -960 960 960\">\n",
              "    <path d=\"M120-120v-720h720v720H120Zm60-500h600v-160H180v160Zm220 220h160v-160H400v160Zm0 220h160v-160H400v160ZM180-400h160v-160H180v160Zm440 0h160v-160H620v160ZM180-180h160v-160H180v160Zm440 0h160v-160H620v160Z\"/>\n",
              "  </svg>\n",
              "    </button>\n",
              "\n",
              "  <style>\n",
              "    .colab-df-container {\n",
              "      display:flex;\n",
              "      gap: 12px;\n",
              "    }\n",
              "\n",
              "    .colab-df-convert {\n",
              "      background-color: #E8F0FE;\n",
              "      border: none;\n",
              "      border-radius: 50%;\n",
              "      cursor: pointer;\n",
              "      display: none;\n",
              "      fill: #1967D2;\n",
              "      height: 32px;\n",
              "      padding: 0 0 0 0;\n",
              "      width: 32px;\n",
              "    }\n",
              "\n",
              "    .colab-df-convert:hover {\n",
              "      background-color: #E2EBFA;\n",
              "      box-shadow: 0px 1px 2px rgba(60, 64, 67, 0.3), 0px 1px 3px 1px rgba(60, 64, 67, 0.15);\n",
              "      fill: #174EA6;\n",
              "    }\n",
              "\n",
              "    .colab-df-buttons div {\n",
              "      margin-bottom: 4px;\n",
              "    }\n",
              "\n",
              "    [theme=dark] .colab-df-convert {\n",
              "      background-color: #3B4455;\n",
              "      fill: #D2E3FC;\n",
              "    }\n",
              "\n",
              "    [theme=dark] .colab-df-convert:hover {\n",
              "      background-color: #434B5C;\n",
              "      box-shadow: 0px 1px 3px 1px rgba(0, 0, 0, 0.15);\n",
              "      filter: drop-shadow(0px 1px 2px rgba(0, 0, 0, 0.3));\n",
              "      fill: #FFFFFF;\n",
              "    }\n",
              "  </style>\n",
              "\n",
              "    <script>\n",
              "      const buttonEl =\n",
              "        document.querySelector('#df-0d74296f-d950-4f30-94dc-79cf249e3848 button.colab-df-convert');\n",
              "      buttonEl.style.display =\n",
              "        google.colab.kernel.accessAllowed ? 'block' : 'none';\n",
              "\n",
              "      async function convertToInteractive(key) {\n",
              "        const element = document.querySelector('#df-0d74296f-d950-4f30-94dc-79cf249e3848');\n",
              "        const dataTable =\n",
              "          await google.colab.kernel.invokeFunction('convertToInteractive',\n",
              "                                                    [key], {});\n",
              "        if (!dataTable) return;\n",
              "\n",
              "        const docLinkHtml = 'Like what you see? Visit the ' +\n",
              "          '<a target=\"_blank\" href=https://colab.research.google.com/notebooks/data_table.ipynb>data table notebook</a>'\n",
              "          + ' to learn more about interactive tables.';\n",
              "        element.innerHTML = '';\n",
              "        dataTable['output_type'] = 'display_data';\n",
              "        await google.colab.output.renderOutput(dataTable, element);\n",
              "        const docLink = document.createElement('div');\n",
              "        docLink.innerHTML = docLinkHtml;\n",
              "        element.appendChild(docLink);\n",
              "      }\n",
              "    </script>\n",
              "  </div>\n",
              "\n",
              "\n",
              "<div id=\"df-711c3741-b4b2-4a84-a0b8-75dd418b2cdc\">\n",
              "  <button class=\"colab-df-quickchart\" onclick=\"quickchart('df-711c3741-b4b2-4a84-a0b8-75dd418b2cdc')\"\n",
              "            title=\"Suggest charts\"\n",
              "            style=\"display:none;\">\n",
              "\n",
              "<svg xmlns=\"http://www.w3.org/2000/svg\" height=\"24px\"viewBox=\"0 0 24 24\"\n",
              "     width=\"24px\">\n",
              "    <g>\n",
              "        <path d=\"M19 3H5c-1.1 0-2 .9-2 2v14c0 1.1.9 2 2 2h14c1.1 0 2-.9 2-2V5c0-1.1-.9-2-2-2zM9 17H7v-7h2v7zm4 0h-2V7h2v10zm4 0h-2v-4h2v4z\"/>\n",
              "    </g>\n",
              "</svg>\n",
              "  </button>\n",
              "\n",
              "<style>\n",
              "  .colab-df-quickchart {\n",
              "      --bg-color: #E8F0FE;\n",
              "      --fill-color: #1967D2;\n",
              "      --hover-bg-color: #E2EBFA;\n",
              "      --hover-fill-color: #174EA6;\n",
              "      --disabled-fill-color: #AAA;\n",
              "      --disabled-bg-color: #DDD;\n",
              "  }\n",
              "\n",
              "  [theme=dark] .colab-df-quickchart {\n",
              "      --bg-color: #3B4455;\n",
              "      --fill-color: #D2E3FC;\n",
              "      --hover-bg-color: #434B5C;\n",
              "      --hover-fill-color: #FFFFFF;\n",
              "      --disabled-bg-color: #3B4455;\n",
              "      --disabled-fill-color: #666;\n",
              "  }\n",
              "\n",
              "  .colab-df-quickchart {\n",
              "    background-color: var(--bg-color);\n",
              "    border: none;\n",
              "    border-radius: 50%;\n",
              "    cursor: pointer;\n",
              "    display: none;\n",
              "    fill: var(--fill-color);\n",
              "    height: 32px;\n",
              "    padding: 0;\n",
              "    width: 32px;\n",
              "  }\n",
              "\n",
              "  .colab-df-quickchart:hover {\n",
              "    background-color: var(--hover-bg-color);\n",
              "    box-shadow: 0 1px 2px rgba(60, 64, 67, 0.3), 0 1px 3px 1px rgba(60, 64, 67, 0.15);\n",
              "    fill: var(--button-hover-fill-color);\n",
              "  }\n",
              "\n",
              "  .colab-df-quickchart-complete:disabled,\n",
              "  .colab-df-quickchart-complete:disabled:hover {\n",
              "    background-color: var(--disabled-bg-color);\n",
              "    fill: var(--disabled-fill-color);\n",
              "    box-shadow: none;\n",
              "  }\n",
              "\n",
              "  .colab-df-spinner {\n",
              "    border: 2px solid var(--fill-color);\n",
              "    border-color: transparent;\n",
              "    border-bottom-color: var(--fill-color);\n",
              "    animation:\n",
              "      spin 1s steps(1) infinite;\n",
              "  }\n",
              "\n",
              "  @keyframes spin {\n",
              "    0% {\n",
              "      border-color: transparent;\n",
              "      border-bottom-color: var(--fill-color);\n",
              "      border-left-color: var(--fill-color);\n",
              "    }\n",
              "    20% {\n",
              "      border-color: transparent;\n",
              "      border-left-color: var(--fill-color);\n",
              "      border-top-color: var(--fill-color);\n",
              "    }\n",
              "    30% {\n",
              "      border-color: transparent;\n",
              "      border-left-color: var(--fill-color);\n",
              "      border-top-color: var(--fill-color);\n",
              "      border-right-color: var(--fill-color);\n",
              "    }\n",
              "    40% {\n",
              "      border-color: transparent;\n",
              "      border-right-color: var(--fill-color);\n",
              "      border-top-color: var(--fill-color);\n",
              "    }\n",
              "    60% {\n",
              "      border-color: transparent;\n",
              "      border-right-color: var(--fill-color);\n",
              "    }\n",
              "    80% {\n",
              "      border-color: transparent;\n",
              "      border-right-color: var(--fill-color);\n",
              "      border-bottom-color: var(--fill-color);\n",
              "    }\n",
              "    90% {\n",
              "      border-color: transparent;\n",
              "      border-bottom-color: var(--fill-color);\n",
              "    }\n",
              "  }\n",
              "</style>\n",
              "\n",
              "  <script>\n",
              "    async function quickchart(key) {\n",
              "      const quickchartButtonEl =\n",
              "        document.querySelector('#' + key + ' button');\n",
              "      quickchartButtonEl.disabled = true;  // To prevent multiple clicks.\n",
              "      quickchartButtonEl.classList.add('colab-df-spinner');\n",
              "      try {\n",
              "        const charts = await google.colab.kernel.invokeFunction(\n",
              "            'suggestCharts', [key], {});\n",
              "      } catch (error) {\n",
              "        console.error('Error during call to suggestCharts:', error);\n",
              "      }\n",
              "      quickchartButtonEl.classList.remove('colab-df-spinner');\n",
              "      quickchartButtonEl.classList.add('colab-df-quickchart-complete');\n",
              "    }\n",
              "    (() => {\n",
              "      let quickchartButtonEl =\n",
              "        document.querySelector('#df-711c3741-b4b2-4a84-a0b8-75dd418b2cdc button');\n",
              "      quickchartButtonEl.style.display =\n",
              "        google.colab.kernel.accessAllowed ? 'block' : 'none';\n",
              "    })();\n",
              "  </script>\n",
              "</div>\n",
              "    </div>\n",
              "  </div>\n"
            ]
          },
          "metadata": {},
          "execution_count": 6
        }
      ]
    },
    {
      "cell_type": "code",
      "source": [
        "#functions to pull tweets\n",
        "def tweets(tweet_ids_list):\n",
        "\n",
        "    bearer_token = token\n",
        "\n",
        "    def create_url():\n",
        "        tweet_fields = \"tweet.fields=lang,author_id\"\n",
        "        ids = \"ids=\" + \",\".join(map(str, tweet_ids_list))\n",
        "        url = f\"https://api.twitter.com/2/tweets?{ids}&{tweet_fields}\"\n",
        "        return url\n",
        "\n",
        "    def bearer_oauth(r):\n",
        "        r.headers[\"Authorization\"] = f\"Bearer {bearer_token}\"\n",
        "        r.headers[\"User-Agent\"] = \"v2TweetLookupPython\"\n",
        "        return r\n",
        "\n",
        "    def connect_to_endpoint(url):\n",
        "        response = requests.request(\"GET\", url, auth=bearer_oauth)\n",
        "        if response.status_code != 200:\n",
        "            raise Exception(f\"Request returned an error: {response.status_code} {response.text}\")\n",
        "        return response.json()\n",
        "\n",
        "    return connect_to_endpoint(create_url())\n"
      ],
      "metadata": {
        "id": "abmaJWqot5Gn"
      },
      "execution_count": null,
      "outputs": []
    },
    {
      "cell_type": "code",
      "source": [
        "#pulls and dumps tweets into json file\n",
        "\n",
        "file_name = 'tweets.json'\n",
        "tweet_indx_start = 7176 #first tweet index to pull\n",
        "tweet_indx_end = 7193 #pull until this index\n",
        "stop_at = 8000 # continue pulling until it surpasses this number\n",
        "offset = tweet_indx_end-tweet_indx_start #update start and end index for continuous pulls\n",
        "sleep=65 #how long to sleep after each pull\n",
        "\n",
        "#run\n",
        "if __name__ == \"__main__\":\n",
        "    all_responses = []\n",
        "\n",
        "\n",
        "    #read existing data from the file\n",
        "    try:\n",
        "        with open('tweets.json', 'r') as f:\n",
        "            existing_data = json.load(f)\n",
        "    except (FileNotFoundError, json.JSONDecodeError):\n",
        "        existing_data = []\n",
        "\n",
        "    while tweet_indx_end <= stop_at:\n",
        "        tweet_indx_start += offset\n",
        "        tweet_indx_end += offset\n",
        "        the_ids = df[tweet_indx_start:tweet_indx_end]['tweet_id'].to_list()\n",
        "        print(f'tweet index: {tweet_indx_start}-{tweet_indx_end}')\n",
        "\n",
        "        #fetch tweets in batches\n",
        "        response = tweets(the_ids)\n",
        "        all_responses.append(response)\n",
        "\n",
        "        #sleep between pulls\n",
        "        time.sleep(sleep)\n",
        "\n",
        "    #merge existing data with new data\n",
        "    combined_data = existing_data + all_responses\n",
        "\n",
        "    with open(file_name, 'w') as f:\n",
        "        json.dump(combined_data, f, indent=4)\n"
      ],
      "metadata": {
        "id": "XG98ICXrupTN"
      },
      "execution_count": null,
      "outputs": []
    },
    {
      "cell_type": "code",
      "source": [
        "with open('tweets.json', 'r') as f:\n",
        "    json_data1 = json.load(f)\n",
        "\n",
        "#loops through resulting json file and creates two data frames for successful and failed pulls\n",
        "tweets_df=pd.DataFrame(json_data1[0]['data'])\n",
        "errors_df=pd.DataFrame(json_data1[1]['errors'])\n",
        "for json1 in json_data1:\n",
        "    the_keys=(json1.keys())\n",
        "    for key in the_keys:\n",
        "        if key == 'data':\n",
        "            tweets_df=pd.concat([tweets_df,pd.DataFrame(json1[key])],ignore_index=True)\n",
        "        elif key == 'errors':\n",
        "            errors_df=pd.concat([errors_df,pd.DataFrame(json1[key])],ignore_index=True)\n",
        "        else:\n",
        "            print(key)"
      ],
      "metadata": {
        "id": "ahQmCly6usO9"
      },
      "execution_count": null,
      "outputs": []
    },
    {
      "cell_type": "code",
      "source": [
        "#rename column to prepare for merge\n",
        "tweets_df.rename(columns={'id':'tweet_id'},inplace=True)"
      ],
      "metadata": {
        "id": "oNDe8daxu1_K"
      },
      "execution_count": null,
      "outputs": []
    },
    {
      "cell_type": "code",
      "source": [
        "#eliminate unneeded columns and rename others\n",
        "errors_df=errors_df[['tweet_id']]\n",
        "errors_df['text']='unavailable'"
      ],
      "metadata": {
        "id": "1RwoXNE7u24O"
      },
      "execution_count": null,
      "outputs": []
    },
    {
      "cell_type": "code",
      "source": [
        "#concatenate errors_df with tweets_df\n",
        "tweets_df=pd.concat([tweets_df[['tweet_id','text']],errors_df],ignore_index=True)"
      ],
      "metadata": {
        "id": "YURFgm2Cu7tD"
      },
      "execution_count": null,
      "outputs": []
    },
    {
      "cell_type": "code",
      "source": [
        "#drop duplicates\n",
        "tweets_df=tweets_df.drop_duplicates()"
      ],
      "metadata": {
        "id": "t80wWWS9vRBj"
      },
      "execution_count": null,
      "outputs": []
    },
    {
      "cell_type": "code",
      "source": [
        "#merge tweets_df with the main df\n",
        "tweets_df.tweet_id=tweets_df.tweet_id.astype(int)\n",
        "df=df.merge(tweets_df, on = 'tweet_id')"
      ],
      "metadata": {
        "id": "Ixx-IcoivR_N"
      },
      "execution_count": null,
      "outputs": []
    },
    {
      "cell_type": "code",
      "source": [
        "#align ratings with the newer data set (they reduced it from four to three different classifications)\n",
        "\n",
        "#load newer data set\n",
        "tw_df2=pd.read_csv('hmc2019.txt')\n",
        "\n",
        "#set tweet_id to index temporarily\n",
        "df.set_index('tweet_id', inplace=True)\n",
        "tw_df2.set_index('tweet_id', inplace=True)\n",
        "\n",
        "#update ratings to match\n",
        "df['rating'].update(tw_df2['rating'])\n",
        "\n",
        "#reset index\n",
        "df.reset_index(inplace=True)\n",
        "tw_df2.reset_index(inplace=True)"
      ],
      "metadata": {
        "id": "0zxPuoL_vgAi"
      },
      "execution_count": null,
      "outputs": []
    },
    {
      "cell_type": "code",
      "source": [
        "#save to csv\n",
        "df.to_csv('PHM2017_with_tweets.csv')"
      ],
      "metadata": {
        "id": "toMlHIOrvjlM"
      },
      "execution_count": null,
      "outputs": []
    },
    {
      "cell_type": "markdown",
      "source": [
        "### Evaluate Original Dataset  - 2017"
      ],
      "metadata": {
        "id": "x45Fc50Cvkux"
      }
    },
    {
      "cell_type": "code",
      "source": [
        "df=pd.read_csv('/content/drive/MyDrive/PHM2017_with_tweets.csv')\n",
        "df.head()"
      ],
      "metadata": {
        "colab": {
          "base_uri": "https://localhost:8080/",
          "height": 206
        },
        "id": "OZU_gNjuvuTf",
        "outputId": "c1dde690-61b2-4a48-f089-61c215d14d50"
      },
      "execution_count": 7,
      "outputs": [
        {
          "output_type": "execute_result",
          "data": {
            "text/plain": [
              "  Unnamed: 0      tweet_id health_word  rating  \\\n",
              "0          0  8.117468e+17   alzheimer     1.0   \n",
              "1          1  9.026492e+17   alzheimer     1.0   \n",
              "2          2  8.116953e+17   alzheimer     0.0   \n",
              "3          3  8.116965e+17   alzheimer     1.0   \n",
              "4          4  8.132130e+17   alzheimer     1.0   \n",
              "\n",
              "                                                text  \n",
              "0  New Alzheimer Society resources to support a m...  \n",
              "1                                        unavailable  \n",
              "2                                        unavailable  \n",
              "3                                        unavailable  \n",
              "4  What to Know About Thyroid and Alzheimer's htt...  "
            ],
            "text/html": [
              "\n",
              "  <div id=\"df-dc022c21-a8f8-465b-b64f-03df84ca9728\" class=\"colab-df-container\">\n",
              "    <div>\n",
              "<style scoped>\n",
              "    .dataframe tbody tr th:only-of-type {\n",
              "        vertical-align: middle;\n",
              "    }\n",
              "\n",
              "    .dataframe tbody tr th {\n",
              "        vertical-align: top;\n",
              "    }\n",
              "\n",
              "    .dataframe thead th {\n",
              "        text-align: right;\n",
              "    }\n",
              "</style>\n",
              "<table border=\"1\" class=\"dataframe\">\n",
              "  <thead>\n",
              "    <tr style=\"text-align: right;\">\n",
              "      <th></th>\n",
              "      <th>Unnamed: 0</th>\n",
              "      <th>tweet_id</th>\n",
              "      <th>health_word</th>\n",
              "      <th>rating</th>\n",
              "      <th>text</th>\n",
              "    </tr>\n",
              "  </thead>\n",
              "  <tbody>\n",
              "    <tr>\n",
              "      <th>0</th>\n",
              "      <td>0</td>\n",
              "      <td>8.117468e+17</td>\n",
              "      <td>alzheimer</td>\n",
              "      <td>1.0</td>\n",
              "      <td>New Alzheimer Society resources to support a m...</td>\n",
              "    </tr>\n",
              "    <tr>\n",
              "      <th>1</th>\n",
              "      <td>1</td>\n",
              "      <td>9.026492e+17</td>\n",
              "      <td>alzheimer</td>\n",
              "      <td>1.0</td>\n",
              "      <td>unavailable</td>\n",
              "    </tr>\n",
              "    <tr>\n",
              "      <th>2</th>\n",
              "      <td>2</td>\n",
              "      <td>8.116953e+17</td>\n",
              "      <td>alzheimer</td>\n",
              "      <td>0.0</td>\n",
              "      <td>unavailable</td>\n",
              "    </tr>\n",
              "    <tr>\n",
              "      <th>3</th>\n",
              "      <td>3</td>\n",
              "      <td>8.116965e+17</td>\n",
              "      <td>alzheimer</td>\n",
              "      <td>1.0</td>\n",
              "      <td>unavailable</td>\n",
              "    </tr>\n",
              "    <tr>\n",
              "      <th>4</th>\n",
              "      <td>4</td>\n",
              "      <td>8.132130e+17</td>\n",
              "      <td>alzheimer</td>\n",
              "      <td>1.0</td>\n",
              "      <td>What to Know About Thyroid and Alzheimer's htt...</td>\n",
              "    </tr>\n",
              "  </tbody>\n",
              "</table>\n",
              "</div>\n",
              "    <div class=\"colab-df-buttons\">\n",
              "\n",
              "  <div class=\"colab-df-container\">\n",
              "    <button class=\"colab-df-convert\" onclick=\"convertToInteractive('df-dc022c21-a8f8-465b-b64f-03df84ca9728')\"\n",
              "            title=\"Convert this dataframe to an interactive table.\"\n",
              "            style=\"display:none;\">\n",
              "\n",
              "  <svg xmlns=\"http://www.w3.org/2000/svg\" height=\"24px\" viewBox=\"0 -960 960 960\">\n",
              "    <path d=\"M120-120v-720h720v720H120Zm60-500h600v-160H180v160Zm220 220h160v-160H400v160Zm0 220h160v-160H400v160ZM180-400h160v-160H180v160Zm440 0h160v-160H620v160ZM180-180h160v-160H180v160Zm440 0h160v-160H620v160Z\"/>\n",
              "  </svg>\n",
              "    </button>\n",
              "\n",
              "  <style>\n",
              "    .colab-df-container {\n",
              "      display:flex;\n",
              "      gap: 12px;\n",
              "    }\n",
              "\n",
              "    .colab-df-convert {\n",
              "      background-color: #E8F0FE;\n",
              "      border: none;\n",
              "      border-radius: 50%;\n",
              "      cursor: pointer;\n",
              "      display: none;\n",
              "      fill: #1967D2;\n",
              "      height: 32px;\n",
              "      padding: 0 0 0 0;\n",
              "      width: 32px;\n",
              "    }\n",
              "\n",
              "    .colab-df-convert:hover {\n",
              "      background-color: #E2EBFA;\n",
              "      box-shadow: 0px 1px 2px rgba(60, 64, 67, 0.3), 0px 1px 3px 1px rgba(60, 64, 67, 0.15);\n",
              "      fill: #174EA6;\n",
              "    }\n",
              "\n",
              "    .colab-df-buttons div {\n",
              "      margin-bottom: 4px;\n",
              "    }\n",
              "\n",
              "    [theme=dark] .colab-df-convert {\n",
              "      background-color: #3B4455;\n",
              "      fill: #D2E3FC;\n",
              "    }\n",
              "\n",
              "    [theme=dark] .colab-df-convert:hover {\n",
              "      background-color: #434B5C;\n",
              "      box-shadow: 0px 1px 3px 1px rgba(0, 0, 0, 0.15);\n",
              "      filter: drop-shadow(0px 1px 2px rgba(0, 0, 0, 0.3));\n",
              "      fill: #FFFFFF;\n",
              "    }\n",
              "  </style>\n",
              "\n",
              "    <script>\n",
              "      const buttonEl =\n",
              "        document.querySelector('#df-dc022c21-a8f8-465b-b64f-03df84ca9728 button.colab-df-convert');\n",
              "      buttonEl.style.display =\n",
              "        google.colab.kernel.accessAllowed ? 'block' : 'none';\n",
              "\n",
              "      async function convertToInteractive(key) {\n",
              "        const element = document.querySelector('#df-dc022c21-a8f8-465b-b64f-03df84ca9728');\n",
              "        const dataTable =\n",
              "          await google.colab.kernel.invokeFunction('convertToInteractive',\n",
              "                                                    [key], {});\n",
              "        if (!dataTable) return;\n",
              "\n",
              "        const docLinkHtml = 'Like what you see? Visit the ' +\n",
              "          '<a target=\"_blank\" href=https://colab.research.google.com/notebooks/data_table.ipynb>data table notebook</a>'\n",
              "          + ' to learn more about interactive tables.';\n",
              "        element.innerHTML = '';\n",
              "        dataTable['output_type'] = 'display_data';\n",
              "        await google.colab.output.renderOutput(dataTable, element);\n",
              "        const docLink = document.createElement('div');\n",
              "        docLink.innerHTML = docLinkHtml;\n",
              "        element.appendChild(docLink);\n",
              "      }\n",
              "    </script>\n",
              "  </div>\n",
              "\n",
              "\n",
              "<div id=\"df-1410499d-ef4d-400e-8c55-1ba7c4b54c91\">\n",
              "  <button class=\"colab-df-quickchart\" onclick=\"quickchart('df-1410499d-ef4d-400e-8c55-1ba7c4b54c91')\"\n",
              "            title=\"Suggest charts\"\n",
              "            style=\"display:none;\">\n",
              "\n",
              "<svg xmlns=\"http://www.w3.org/2000/svg\" height=\"24px\"viewBox=\"0 0 24 24\"\n",
              "     width=\"24px\">\n",
              "    <g>\n",
              "        <path d=\"M19 3H5c-1.1 0-2 .9-2 2v14c0 1.1.9 2 2 2h14c1.1 0 2-.9 2-2V5c0-1.1-.9-2-2-2zM9 17H7v-7h2v7zm4 0h-2V7h2v10zm4 0h-2v-4h2v4z\"/>\n",
              "    </g>\n",
              "</svg>\n",
              "  </button>\n",
              "\n",
              "<style>\n",
              "  .colab-df-quickchart {\n",
              "      --bg-color: #E8F0FE;\n",
              "      --fill-color: #1967D2;\n",
              "      --hover-bg-color: #E2EBFA;\n",
              "      --hover-fill-color: #174EA6;\n",
              "      --disabled-fill-color: #AAA;\n",
              "      --disabled-bg-color: #DDD;\n",
              "  }\n",
              "\n",
              "  [theme=dark] .colab-df-quickchart {\n",
              "      --bg-color: #3B4455;\n",
              "      --fill-color: #D2E3FC;\n",
              "      --hover-bg-color: #434B5C;\n",
              "      --hover-fill-color: #FFFFFF;\n",
              "      --disabled-bg-color: #3B4455;\n",
              "      --disabled-fill-color: #666;\n",
              "  }\n",
              "\n",
              "  .colab-df-quickchart {\n",
              "    background-color: var(--bg-color);\n",
              "    border: none;\n",
              "    border-radius: 50%;\n",
              "    cursor: pointer;\n",
              "    display: none;\n",
              "    fill: var(--fill-color);\n",
              "    height: 32px;\n",
              "    padding: 0;\n",
              "    width: 32px;\n",
              "  }\n",
              "\n",
              "  .colab-df-quickchart:hover {\n",
              "    background-color: var(--hover-bg-color);\n",
              "    box-shadow: 0 1px 2px rgba(60, 64, 67, 0.3), 0 1px 3px 1px rgba(60, 64, 67, 0.15);\n",
              "    fill: var(--button-hover-fill-color);\n",
              "  }\n",
              "\n",
              "  .colab-df-quickchart-complete:disabled,\n",
              "  .colab-df-quickchart-complete:disabled:hover {\n",
              "    background-color: var(--disabled-bg-color);\n",
              "    fill: var(--disabled-fill-color);\n",
              "    box-shadow: none;\n",
              "  }\n",
              "\n",
              "  .colab-df-spinner {\n",
              "    border: 2px solid var(--fill-color);\n",
              "    border-color: transparent;\n",
              "    border-bottom-color: var(--fill-color);\n",
              "    animation:\n",
              "      spin 1s steps(1) infinite;\n",
              "  }\n",
              "\n",
              "  @keyframes spin {\n",
              "    0% {\n",
              "      border-color: transparent;\n",
              "      border-bottom-color: var(--fill-color);\n",
              "      border-left-color: var(--fill-color);\n",
              "    }\n",
              "    20% {\n",
              "      border-color: transparent;\n",
              "      border-left-color: var(--fill-color);\n",
              "      border-top-color: var(--fill-color);\n",
              "    }\n",
              "    30% {\n",
              "      border-color: transparent;\n",
              "      border-left-color: var(--fill-color);\n",
              "      border-top-color: var(--fill-color);\n",
              "      border-right-color: var(--fill-color);\n",
              "    }\n",
              "    40% {\n",
              "      border-color: transparent;\n",
              "      border-right-color: var(--fill-color);\n",
              "      border-top-color: var(--fill-color);\n",
              "    }\n",
              "    60% {\n",
              "      border-color: transparent;\n",
              "      border-right-color: var(--fill-color);\n",
              "    }\n",
              "    80% {\n",
              "      border-color: transparent;\n",
              "      border-right-color: var(--fill-color);\n",
              "      border-bottom-color: var(--fill-color);\n",
              "    }\n",
              "    90% {\n",
              "      border-color: transparent;\n",
              "      border-bottom-color: var(--fill-color);\n",
              "    }\n",
              "  }\n",
              "</style>\n",
              "\n",
              "  <script>\n",
              "    async function quickchart(key) {\n",
              "      const quickchartButtonEl =\n",
              "        document.querySelector('#' + key + ' button');\n",
              "      quickchartButtonEl.disabled = true;  // To prevent multiple clicks.\n",
              "      quickchartButtonEl.classList.add('colab-df-spinner');\n",
              "      try {\n",
              "        const charts = await google.colab.kernel.invokeFunction(\n",
              "            'suggestCharts', [key], {});\n",
              "      } catch (error) {\n",
              "        console.error('Error during call to suggestCharts:', error);\n",
              "      }\n",
              "      quickchartButtonEl.classList.remove('colab-df-spinner');\n",
              "      quickchartButtonEl.classList.add('colab-df-quickchart-complete');\n",
              "    }\n",
              "    (() => {\n",
              "      let quickchartButtonEl =\n",
              "        document.querySelector('#df-1410499d-ef4d-400e-8c55-1ba7c4b54c91 button');\n",
              "      quickchartButtonEl.style.display =\n",
              "        google.colab.kernel.accessAllowed ? 'block' : 'none';\n",
              "    })();\n",
              "  </script>\n",
              "</div>\n",
              "    </div>\n",
              "  </div>\n"
            ]
          },
          "metadata": {},
          "execution_count": 7
        }
      ]
    },
    {
      "cell_type": "code",
      "source": [
        "print(df.rating.value_counts())"
      ],
      "metadata": {
        "colab": {
          "base_uri": "https://localhost:8080/"
        },
        "id": "OlptSJMkvw34",
        "outputId": "5524552c-affe-4097-cc55-7e7b94dfc9cb"
      },
      "execution_count": 9,
      "outputs": [
        {
          "output_type": "stream",
          "name": "stdout",
          "text": [
            "1.0    3601\n",
            "0.0    2178\n",
            "2.0     813\n",
            "3.0     599\n",
            "Name: rating, dtype: int64\n"
          ]
        }
      ]
    },
    {
      "cell_type": "code",
      "source": [
        "# Create a cross-tabulation of the two columns\n",
        "cross_tab = pd.crosstab(df['health_word'], df['rating'])\n",
        "\n",
        "# Visualize the cross-tabulation as a heatmap\n",
        "plt.figure(figsize=(8, 6))\n",
        "sns.heatmap(cross_tab, annot=True, cmap='viridis', fmt='g')\n",
        "plt.title('Co-occurrence of health_word and rating')\n",
        "plt.show()"
      ],
      "metadata": {
        "colab": {
          "base_uri": "https://localhost:8080/",
          "height": 564
        },
        "id": "pk8hmLYpvzsY",
        "outputId": "177f9aa7-ea1b-45f7-e382-449beebb5c59"
      },
      "execution_count": 11,
      "outputs": [
        {
          "output_type": "display_data",
          "data": {
            "text/plain": [
              "<Figure size 800x600 with 2 Axes>"
            ],
            "image/png": "[encoded data removed]"
          },
          "metadata": {}
        }
      ]
    },
    {
      "cell_type": "markdown",
      "source": [
        "### Newer Data Set - 2019"
      ],
      "metadata": {
        "id": "8QRf77NDwjc0"
      }
    },
    {
      "cell_type": "code",
      "source": [
        "#get the indices of rows in newer df that have a tweet_id present in original df\n",
        "mask = tw_df2['tweet_id'].isin(df['tweet_id'])\n",
        "\n",
        "# Use boolean indexing to filter out those rows\n",
        "tw_df = tw_df2[~mask]"
      ],
      "metadata": {
        "id": "ORhdulwKwcBz"
      },
      "execution_count": 12,
      "outputs": []
    },
    {
      "cell_type": "code",
      "source": [
        "#make sure there are no overlapping tweet_ids - True if it evaluates to 0\n",
        "len(tw_df[tw_df['tweet_id'].isin(df['tweet_id'])])==0"
      ],
      "metadata": {
        "id": "OgvUaSpOwW7D"
      },
      "execution_count": null,
      "outputs": []
    },
    {
      "cell_type": "code",
      "source": [
        "# Create a cross-tabulation of the two columns\n",
        "cross_tab = pd.crosstab(tw_df['health_word'], tw_df['rating'])\n",
        "\n",
        "# Visualize the cross-tabulation as a heatmap\n",
        "plt.figure(figsize=(10, 8))\n",
        "sns.heatmap(cross_tab, annot=True, cmap='viridis', fmt='g')\n",
        "plt.title('Co-occurrence of health_word and rating')\n",
        "plt.show()"
      ],
      "metadata": {
        "id": "WDkV3JVAwp6O"
      },
      "execution_count": null,
      "outputs": []
    },
    {
      "cell_type": "code",
      "source": [
        "print(f\"total: {len(df.loc[df['text']!='unavailable'])}\")\n",
        "print(f'goal per rating: {(10000-283)/3}')\n",
        "counts=df.loc[df['text']!='unavailable'].rating.value_counts()\n",
        "print('')\n",
        "print(counts)\n",
        "print('')\n",
        "print(f'needed tweets for rating 0: {((10000-283)/3)-counts[0]}')\n",
        "print(f'needed tweets for rating 1: {((10000-283)/3)-counts[1.0]}')\n",
        "print(f'needed tweets for rating 2: {((10000-283)/3)-counts[2.0]}')"
      ],
      "metadata": {
        "id": "tYdpSIFZwsvS"
      },
      "execution_count": null,
      "outputs": []
    },
    {
      "cell_type": "code",
      "source": [
        "#trying to create balance while pulling tweets\n",
        "tw_df_zero=tw_df[(tw_df['health_word']!='heart attack') & (tw_df['health_word']!='stroke') & (tw_df['rating']==0)]\n",
        "tw_df_one=tw_df[~(tw_df['health_word'].isin(df.health_word.unique())) & (tw_df['rating']==1)]\n",
        "tw_df_two=tw_df[(~tw_df['health_word'].isin(df.health_word.unique())) & (tw_df['rating']==2)]"
      ],
      "metadata": {
        "id": "HfuR6jKSwu4i"
      },
      "execution_count": null,
      "outputs": []
    },
    {
      "cell_type": "code",
      "source": [
        "#pulls and dumps tweets into json file\n",
        "\n",
        "file_name = 'tweets_new.json'\n",
        "tweet_indx_start = -100 #first tweet index to pull\n",
        "tweet_indx_end = 0 #pull until this index\n",
        "stop_at = 200 # continue pulling until it surpasses this number\n",
        "offset = tweet_indx_end-tweet_indx_start #update start and end index for continuous pulls\n",
        "sleep=31 #how long to sleep after each pull\n",
        "\n",
        "temp_df=tw_df_one\n",
        "\n",
        "#run\n",
        "if __name__ == \"__main__\":\n",
        "    all_responses = []\n",
        "\n",
        "\n",
        "    #read existing data from the file\n",
        "    try:\n",
        "        with open(file_name, 'r') as f:\n",
        "            existing_data = json.load(f)\n",
        "    except (FileNotFoundError, json.JSONDecodeError):\n",
        "        existing_data = []\n",
        "\n",
        "    while tweet_indx_end < stop_at:\n",
        "        tweet_indx_start += offset\n",
        "        tweet_indx_end += offset\n",
        "        the_ids = temp_df[tweet_indx_start:tweet_indx_end]['tweet_id'].to_list()\n",
        "        print(f'pulling tweet index: {tweet_indx_start}-{tweet_indx_end}')\n",
        "\n",
        "        #fetch tweets in batches\n",
        "        response = tweets(the_ids)\n",
        "        all_responses.append(response)\n",
        "\n",
        "        #sleep between pulls\n",
        "        time.sleep(sleep)\n",
        "\n",
        "    #merge existing data with new data\n",
        "    combined_data = existing_data + all_responses\n",
        "\n",
        "    with open(file_name, 'w') as f:\n",
        "        json.dump(combined_data, f, indent=4)\n"
      ],
      "metadata": {
        "id": "EQ5LPsJgwyBg"
      },
      "execution_count": null,
      "outputs": []
    },
    {
      "cell_type": "code",
      "source": [
        "with open('tweets_new.json', 'r') as f:\n",
        "    json_data2 = json.load(f)\n",
        "\n",
        "#loops through resulting json file and creates two data frames for successful and failed pulls\n",
        "tweets_df2=pd.DataFrame(pd.DataFrame(json_data2[0]['data']))\n",
        "errors_df2=pd.DataFrame(pd.DataFrame(json_data2[0]['errors']))\n",
        "for json2 in json_data2:\n",
        "    the_keys=(json2.keys())\n",
        "\n",
        "    for key in the_keys:\n",
        "        if key == 'data':\n",
        "            tweets_df2=pd.concat([tweets_df2,pd.DataFrame(json2[key])],ignore_index=True)\n",
        "        elif key == 'errors':\n",
        "            errors_df2=pd.concat([errors_df2,pd.DataFrame(json2[key])],ignore_index=True)\n",
        "        else:\n",
        "            print(key)\n",
        "\n",
        "tweets_df2 = tweets_df2.drop_duplicates(subset='id')\n",
        "errors_df2=errors_df2.drop_duplicates()"
      ],
      "metadata": {
        "id": "CPaHZfz_w2JX"
      },
      "execution_count": null,
      "outputs": []
    },
    {
      "cell_type": "code",
      "source": [
        "#rename column id and remove unneeded rows\n",
        "df_temp=tweets_df2.rename(columns={'id':'tweet_id'})\n",
        "df_temp=df_temp[['tweet_id','text']]\n",
        "df_temp.tweet_id=df_temp.tweet_id.astype(int)\n",
        "df_temp=pd.concat([df[df['text']!='unavailable'],df_temp.merge(tw_df2,on='tweet_id')])"
      ],
      "metadata": {
        "id": "QA8mdkMJxKtk"
      },
      "execution_count": null,
      "outputs": []
    },
    {
      "cell_type": "code",
      "source": [
        "#see final count\n",
        "df_temp.rating.value_counts()"
      ],
      "metadata": {
        "id": "rKDrs-YBxLb_"
      },
      "execution_count": null,
      "outputs": []
    },
    {
      "cell_type": "markdown",
      "source": [
        "### Clean Up Final CSV"
      ],
      "metadata": {
        "id": "aybTsJUQxORB"
      }
    },
    {
      "cell_type": "code",
      "source": [
        "#Dictionary to map ratings to words\n",
        "rating_to_word = {\n",
        "    0: 'figurative',\n",
        "    1: 'generic_health',\n",
        "    2: 'personal_health',\n",
        "    3: 'unsure'\n",
        "}\n",
        "\n",
        "# Create a new column 'rating_word' by mapping the 'rating' column\n",
        "df_temp['rating_category'] = df_temp['rating'].map(rating_to_word)"
      ],
      "metadata": {
        "id": "MJ-n0yf7xO1l"
      },
      "execution_count": null,
      "outputs": []
    },
    {
      "cell_type": "code",
      "source": [
        "#excise ratings with 3\n",
        "final_df=df_temp[df_temp.rating!=3]\n",
        "final_df.reset_index(inplace=True)\n",
        "final_df.rating=final_df.rating.astype(int)\n",
        "final_df=final_df[['tweet_id','health_word','rating','rating_category','text']]"
      ],
      "metadata": {
        "id": "SoRRd99JxU3r"
      },
      "execution_count": null,
      "outputs": []
    },
    {
      "cell_type": "code",
      "source": [
        "#drop columns with NaN\n",
        "final_df=final_df.dropna(how='all')\n",
        "final_df.reset_index(inplace=True)"
      ],
      "metadata": {
        "id": "u9Bq-pmmxXSw"
      },
      "execution_count": null,
      "outputs": []
    },
    {
      "cell_type": "code",
      "source": [
        "final_df.to_csv('hmc_tweet_266.csv')"
      ],
      "metadata": {
        "id": "3P7RHKBHxk_F"
      },
      "execution_count": null,
      "outputs": []
    },
    {
      "cell_type": "markdown",
      "source": [
        "# Load Completed Data Set with Pulled Tweets"
      ],
      "metadata": {
        "id": "wUfMaKjSvHHS"
      }
    },
    {
      "cell_type": "code",
      "source": [
        "#load data into pandas\n",
        "df = pd.read_csv('/content/drive/MyDrive/hmc_tweets_266.csv')\n",
        "df.head()"
      ],
      "metadata": {
        "colab": {
          "base_uri": "https://localhost:8080/",
          "height": 206
        },
        "id": "LUpm7MJ1ALBF",
        "outputId": "acb6bae6-4db1-44a2-8c7e-999be5a7dd95"
      },
      "execution_count": 13,
      "outputs": [
        {
          "output_type": "execute_result",
          "data": {
            "text/plain": [
              "   Unnamed: 0  index      tweet_id health_word  rating rating_category  \\\n",
              "0           0      0  8.117468e+17   alzheimer       1  generic_health   \n",
              "1           1      1  8.132130e+17   alzheimer       1  generic_health   \n",
              "2           2      2  8.117734e+17   alzheimer       1  generic_health   \n",
              "3           3      3  9.026493e+17   alzheimer       1  generic_health   \n",
              "4           4      4  9.055107e+17   alzheimer       1  generic_health   \n",
              "\n",
              "                                                text  \n",
              "0  New Alzheimer Society resources to support a m...  \n",
              "1  What to Know About Thyroid and Alzheimer's htt...  \n",
              "2  Hippocampus ! If this part are damage we could...  \n",
              "3  How tackling hearing loss could reduce your ri...  \n",
              "4  Finding the fun in the fog of Alzheimer’s\\nvia...  "
            ],
            "text/html": [
              "\n",
              "  <div id=\"df-7b3692a3-42b8-4efe-bdff-d9e98f41f3d8\" class=\"colab-df-container\">\n",
              "    <div>\n",
              "<style scoped>\n",
              "    .dataframe tbody tr th:only-of-type {\n",
              "        vertical-align: middle;\n",
              "    }\n",
              "\n",
              "    .dataframe tbody tr th {\n",
              "        vertical-align: top;\n",
              "    }\n",
              "\n",
              "    .dataframe thead th {\n",
              "        text-align: right;\n",
              "    }\n",
              "</style>\n",
              "<table border=\"1\" class=\"dataframe\">\n",
              "  <thead>\n",
              "    <tr style=\"text-align: right;\">\n",
              "      <th></th>\n",
              "      <th>Unnamed: 0</th>\n",
              "      <th>index</th>\n",
              "      <th>tweet_id</th>\n",
              "      <th>health_word</th>\n",
              "      <th>rating</th>\n",
              "      <th>rating_category</th>\n",
              "      <th>text</th>\n",
              "    </tr>\n",
              "  </thead>\n",
              "  <tbody>\n",
              "    <tr>\n",
              "      <th>0</th>\n",
              "      <td>0</td>\n",
              "      <td>0</td>\n",
              "      <td>8.117468e+17</td>\n",
              "      <td>alzheimer</td>\n",
              "      <td>1</td>\n",
              "      <td>generic_health</td>\n",
              "      <td>New Alzheimer Society resources to support a m...</td>\n",
              "    </tr>\n",
              "    <tr>\n",
              "      <th>1</th>\n",
              "      <td>1</td>\n",
              "      <td>1</td>\n",
              "      <td>8.132130e+17</td>\n",
              "      <td>alzheimer</td>\n",
              "      <td>1</td>\n",
              "      <td>generic_health</td>\n",
              "      <td>What to Know About Thyroid and Alzheimer's htt...</td>\n",
              "    </tr>\n",
              "    <tr>\n",
              "      <th>2</th>\n",
              "      <td>2</td>\n",
              "      <td>2</td>\n",
              "      <td>8.117734e+17</td>\n",
              "      <td>alzheimer</td>\n",
              "      <td>1</td>\n",
              "      <td>generic_health</td>\n",
              "      <td>Hippocampus ! If this part are damage we could...</td>\n",
              "    </tr>\n",
              "    <tr>\n",
              "      <th>3</th>\n",
              "      <td>3</td>\n",
              "      <td>3</td>\n",
              "      <td>9.026493e+17</td>\n",
              "      <td>alzheimer</td>\n",
              "      <td>1</td>\n",
              "      <td>generic_health</td>\n",
              "      <td>How tackling hearing loss could reduce your ri...</td>\n",
              "    </tr>\n",
              "    <tr>\n",
              "      <th>4</th>\n",
              "      <td>4</td>\n",
              "      <td>4</td>\n",
              "      <td>9.055107e+17</td>\n",
              "      <td>alzheimer</td>\n",
              "      <td>1</td>\n",
              "      <td>generic_health</td>\n",
              "      <td>Finding the fun in the fog of Alzheimer’s\\nvia...</td>\n",
              "    </tr>\n",
              "  </tbody>\n",
              "</table>\n",
              "</div>\n",
              "    <div class=\"colab-df-buttons\">\n",
              "\n",
              "  <div class=\"colab-df-container\">\n",
              "    <button class=\"colab-df-convert\" onclick=\"convertToInteractive('df-7b3692a3-42b8-4efe-bdff-d9e98f41f3d8')\"\n",
              "            title=\"Convert this dataframe to an interactive table.\"\n",
              "            style=\"display:none;\">\n",
              "\n",
              "  <svg xmlns=\"http://www.w3.org/2000/svg\" height=\"24px\" viewBox=\"0 -960 960 960\">\n",
              "    <path d=\"M120-120v-720h720v720H120Zm60-500h600v-160H180v160Zm220 220h160v-160H400v160Zm0 220h160v-160H400v160ZM180-400h160v-160H180v160Zm440 0h160v-160H620v160ZM180-180h160v-160H180v160Zm440 0h160v-160H620v160Z\"/>\n",
              "  </svg>\n",
              "    </button>\n",
              "\n",
              "  <style>\n",
              "    .colab-df-container {\n",
              "      display:flex;\n",
              "      gap: 12px;\n",
              "    }\n",
              "\n",
              "    .colab-df-convert {\n",
              "      background-color: #E8F0FE;\n",
              "      border: none;\n",
              "      border-radius: 50%;\n",
              "      cursor: pointer;\n",
              "      display: none;\n",
              "      fill: #1967D2;\n",
              "      height: 32px;\n",
              "      padding: 0 0 0 0;\n",
              "      width: 32px;\n",
              "    }\n",
              "\n",
              "    .colab-df-convert:hover {\n",
              "      background-color: #E2EBFA;\n",
              "      box-shadow: 0px 1px 2px rgba(60, 64, 67, 0.3), 0px 1px 3px 1px rgba(60, 64, 67, 0.15);\n",
              "      fill: #174EA6;\n",
              "    }\n",
              "\n",
              "    .colab-df-buttons div {\n",
              "      margin-bottom: 4px;\n",
              "    }\n",
              "\n",
              "    [theme=dark] .colab-df-convert {\n",
              "      background-color: #3B4455;\n",
              "      fill: #D2E3FC;\n",
              "    }\n",
              "\n",
              "    [theme=dark] .colab-df-convert:hover {\n",
              "      background-color: #434B5C;\n",
              "      box-shadow: 0px 1px 3px 1px rgba(0, 0, 0, 0.15);\n",
              "      filter: drop-shadow(0px 1px 2px rgba(0, 0, 0, 0.3));\n",
              "      fill: #FFFFFF;\n",
              "    }\n",
              "  </style>\n",
              "\n",
              "    <script>\n",
              "      const buttonEl =\n",
              "        document.querySelector('#df-7b3692a3-42b8-4efe-bdff-d9e98f41f3d8 button.colab-df-convert');\n",
              "      buttonEl.style.display =\n",
              "        google.colab.kernel.accessAllowed ? 'block' : 'none';\n",
              "\n",
              "      async function convertToInteractive(key) {\n",
              "        const element = document.querySelector('#df-7b3692a3-42b8-4efe-bdff-d9e98f41f3d8');\n",
              "        const dataTable =\n",
              "          await google.colab.kernel.invokeFunction('convertToInteractive',\n",
              "                                                    [key], {});\n",
              "        if (!dataTable) return;\n",
              "\n",
              "        const docLinkHtml = 'Like what you see? Visit the ' +\n",
              "          '<a target=\"_blank\" href=https://colab.research.google.com/notebooks/data_table.ipynb>data table notebook</a>'\n",
              "          + ' to learn more about interactive tables.';\n",
              "        element.innerHTML = '';\n",
              "        dataTable['output_type'] = 'display_data';\n",
              "        await google.colab.output.renderOutput(dataTable, element);\n",
              "        const docLink = document.createElement('div');\n",
              "        docLink.innerHTML = docLinkHtml;\n",
              "        element.appendChild(docLink);\n",
              "      }\n",
              "    </script>\n",
              "  </div>\n",
              "\n",
              "\n",
              "<div id=\"df-8385783c-fb36-46cc-9a68-cab3e6d2ba66\">\n",
              "  <button class=\"colab-df-quickchart\" onclick=\"quickchart('df-8385783c-fb36-46cc-9a68-cab3e6d2ba66')\"\n",
              "            title=\"Suggest charts\"\n",
              "            style=\"display:none;\">\n",
              "\n",
              "<svg xmlns=\"http://www.w3.org/2000/svg\" height=\"24px\"viewBox=\"0 0 24 24\"\n",
              "     width=\"24px\">\n",
              "    <g>\n",
              "        <path d=\"M19 3H5c-1.1 0-2 .9-2 2v14c0 1.1.9 2 2 2h14c1.1 0 2-.9 2-2V5c0-1.1-.9-2-2-2zM9 17H7v-7h2v7zm4 0h-2V7h2v10zm4 0h-2v-4h2v4z\"/>\n",
              "    </g>\n",
              "</svg>\n",
              "  </button>\n",
              "\n",
              "<style>\n",
              "  .colab-df-quickchart {\n",
              "      --bg-color: #E8F0FE;\n",
              "      --fill-color: #1967D2;\n",
              "      --hover-bg-color: #E2EBFA;\n",
              "      --hover-fill-color: #174EA6;\n",
              "      --disabled-fill-color: #AAA;\n",
              "      --disabled-bg-color: #DDD;\n",
              "  }\n",
              "\n",
              "  [theme=dark] .colab-df-quickchart {\n",
              "      --bg-color: #3B4455;\n",
              "      --fill-color: #D2E3FC;\n",
              "      --hover-bg-color: #434B5C;\n",
              "      --hover-fill-color: #FFFFFF;\n",
              "      --disabled-bg-color: #3B4455;\n",
              "      --disabled-fill-color: #666;\n",
              "  }\n",
              "\n",
              "  .colab-df-quickchart {\n",
              "    background-color: var(--bg-color);\n",
              "    border: none;\n",
              "    border-radius: 50%;\n",
              "    cursor: pointer;\n",
              "    display: none;\n",
              "    fill: var(--fill-color);\n",
              "    height: 32px;\n",
              "    padding: 0;\n",
              "    width: 32px;\n",
              "  }\n",
              "\n",
              "  .colab-df-quickchart:hover {\n",
              "    background-color: var(--hover-bg-color);\n",
              "    box-shadow: 0 1px 2px rgba(60, 64, 67, 0.3), 0 1px 3px 1px rgba(60, 64, 67, 0.15);\n",
              "    fill: var(--button-hover-fill-color);\n",
              "  }\n",
              "\n",
              "  .colab-df-quickchart-complete:disabled,\n",
              "  .colab-df-quickchart-complete:disabled:hover {\n",
              "    background-color: var(--disabled-bg-color);\n",
              "    fill: var(--disabled-fill-color);\n",
              "    box-shadow: none;\n",
              "  }\n",
              "\n",
              "  .colab-df-spinner {\n",
              "    border: 2px solid var(--fill-color);\n",
              "    border-color: transparent;\n",
              "    border-bottom-color: var(--fill-color);\n",
              "    animation:\n",
              "      spin 1s steps(1) infinite;\n",
              "  }\n",
              "\n",
              "  @keyframes spin {\n",
              "    0% {\n",
              "      border-color: transparent;\n",
              "      border-bottom-color: var(--fill-color);\n",
              "      border-left-color: var(--fill-color);\n",
              "    }\n",
              "    20% {\n",
              "      border-color: transparent;\n",
              "      border-left-color: var(--fill-color);\n",
              "      border-top-color: var(--fill-color);\n",
              "    }\n",
              "    30% {\n",
              "      border-color: transparent;\n",
              "      border-left-color: var(--fill-color);\n",
              "      border-top-color: var(--fill-color);\n",
              "      border-right-color: var(--fill-color);\n",
              "    }\n",
              "    40% {\n",
              "      border-color: transparent;\n",
              "      border-right-color: var(--fill-color);\n",
              "      border-top-color: var(--fill-color);\n",
              "    }\n",
              "    60% {\n",
              "      border-color: transparent;\n",
              "      border-right-color: var(--fill-color);\n",
              "    }\n",
              "    80% {\n",
              "      border-color: transparent;\n",
              "      border-right-color: var(--fill-color);\n",
              "      border-bottom-color: var(--fill-color);\n",
              "    }\n",
              "    90% {\n",
              "      border-color: transparent;\n",
              "      border-bottom-color: var(--fill-color);\n",
              "    }\n",
              "  }\n",
              "</style>\n",
              "\n",
              "  <script>\n",
              "    async function quickchart(key) {\n",
              "      const quickchartButtonEl =\n",
              "        document.querySelector('#' + key + ' button');\n",
              "      quickchartButtonEl.disabled = true;  // To prevent multiple clicks.\n",
              "      quickchartButtonEl.classList.add('colab-df-spinner');\n",
              "      try {\n",
              "        const charts = await google.colab.kernel.invokeFunction(\n",
              "            'suggestCharts', [key], {});\n",
              "      } catch (error) {\n",
              "        console.error('Error during call to suggestCharts:', error);\n",
              "      }\n",
              "      quickchartButtonEl.classList.remove('colab-df-spinner');\n",
              "      quickchartButtonEl.classList.add('colab-df-quickchart-complete');\n",
              "    }\n",
              "    (() => {\n",
              "      let quickchartButtonEl =\n",
              "        document.querySelector('#df-8385783c-fb36-46cc-9a68-cab3e6d2ba66 button');\n",
              "      quickchartButtonEl.style.display =\n",
              "        google.colab.kernel.accessAllowed ? 'block' : 'none';\n",
              "    })();\n",
              "  </script>\n",
              "</div>\n",
              "    </div>\n",
              "  </div>\n"
            ]
          },
          "metadata": {},
          "execution_count": 13
        }
      ]
    },
    {
      "cell_type": "markdown",
      "source": [
        "# EDA"
      ],
      "metadata": {
        "id": "D6O9GTZLC71V"
      }
    },
    {
      "cell_type": "code",
      "source": [
        "rating_counts = df['rating'].value_counts()\n",
        "\n",
        "# Create a bar plot\n",
        "sns.barplot(x=rating_counts.index, y=rating_counts.values)\n",
        "\n",
        "# Adding labels for clarity\n",
        "plt.xlabel('Rating')\n",
        "plt.ylabel('Count')\n",
        "plt.title('Tweet Counts by Rating Category')\n",
        "plt.xticks(ticks=[0, 1, 2], labels=['Figurative', 'Generic Health', 'Personal Health'])\n",
        "\n",
        "# Show the plot\n",
        "plt.show()"
      ],
      "metadata": {
        "colab": {
          "base_uri": "https://localhost:8080/",
          "height": 472
        },
        "id": "iWSuKtIq3vUG",
        "outputId": "577b2d1a-4136-4d23-880c-1265690109dd"
      },
      "execution_count": 14,
      "outputs": [
        {
          "output_type": "display_data",
          "data": {
            "text/plain": [
              "<Figure size 640x480 with 1 Axes>"
            ],
            "image/png": "[encoded data removed]"
          },
          "metadata": {}
        }
      ]
    },
    {
      "cell_type": "code",
      "source": [
        "#take a look at the final distribution\n",
        "cross_tab = pd.crosstab(df['health_word'], df['rating'])\n",
        "\n",
        "# Visualize the cross-tabulation as a heatmap\n",
        "plt.figure(figsize=(10, 8))\n",
        "sns.heatmap(cross_tab, annot=True, cmap='viridis', fmt='g')\n",
        "plt.title('Co-occurrence of health_word and rating')\n",
        "plt.show()"
      ],
      "metadata": {
        "colab": {
          "base_uri": "https://localhost:8080/",
          "height": 718
        },
        "id": "mZCMPQISAfHg",
        "outputId": "cc0931d3-51d6-48cc-cc55-42bfb3acbf1d"
      },
      "execution_count": null,
      "outputs": [
        {
          "output_type": "display_data",
          "data": {
            "text/plain": [
              "<Figure size 1000x800 with 2 Axes>"
            ],
            "image/png": "[encoded data removed]"
          },
          "metadata": {}
        }
      ]
    },
    {
      "cell_type": "code",
      "source": [],
      "metadata": {
        "id": "5aYA6Y0hC1qu"
      },
      "execution_count": null,
      "outputs": []
    },
    {
      "cell_type": "code",
      "source": [
        "health_terms=df.health_word.unique()\n",
        "fig, axs = plt.subplots(3,4, figsize=(15,8))\n",
        "axs_flat = axs.flatten()\n",
        "\n",
        "for i, term in enumerate(health_terms):\n",
        "    sns.countplot(data=df.loc[df['health_word'] == term], y='rating', ax=axs_flat[i])\n",
        "    axs_flat[i].set_title(term)\n",
        "    axs_flat[i].set_ylabel(f'class')\n",
        "\n",
        "#remove the extra subplots which are not needed\n",
        "for ax in axs_flat[10:]:\n",
        "    ax.remove()\n",
        "\n",
        "plt.tight_layout()\n",
        "plt.show()"
      ],
      "metadata": {
        "id": "LFY0xr1RM5gu",
        "colab": {
          "base_uri": "https://localhost:8080/",
          "height": 704
        },
        "outputId": "27043952-0589-4184-e90b-8c678e0c4dd2"
      },
      "execution_count": null,
      "outputs": [
        {
          "output_type": "display_data",
          "data": {
            "text/plain": [
              "<Figure size 1500x800 with 10 Axes>"
            ],
            "image/png": "[encoded data removed]"
          },
          "metadata": {}
        }
      ]
    },
    {
      "cell_type": "code",
      "source": [],
      "metadata": {
        "id": "KamwUkUsB1Ez"
      },
      "execution_count": null,
      "outputs": []
    }
  ]
}
